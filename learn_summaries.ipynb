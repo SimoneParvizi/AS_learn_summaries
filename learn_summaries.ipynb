{
 "cells": [
  {
   "cell_type": "code",
   "execution_count": 2,
   "metadata": {},
   "outputs": [
    {
     "data": {
      "text/plain": [
       "True"
      ]
     },
     "execution_count": 2,
     "metadata": {},
     "output_type": "execute_result"
    }
   ],
   "source": [
    "import os\n",
    "from docx import Document\n",
    "from openai import OpenAI\n",
    "from dotenv import load_dotenv\n",
    "load_dotenv()"
   ]
  },
  {
   "cell_type": "code",
   "execution_count": 8,
   "metadata": {},
   "outputs": [
    {
     "name": "stdout",
     "output_type": "stream",
     "text": [
      "Reading file: summ_1.docx\n",
      "Reading file: summ_2.docx\n",
      "Reading file: summ_3.docx\n",
      "Comparative Analysis:\n",
      " All three medical summaries have similar structure and content with slight variations due to the differing nature of the patients' concerns and their personal information.\n",
      "\n",
      "Here's the general structure they follow:\n",
      "\n",
      "1. Name of the patient and their emotional state during appointment time.\n",
      "2. Description of the chronic problem and its origins.\n",
      "3. Frequency and nature of the problem's episodes.\n",
      "4. Patients' previous treatment regimen and its cessation upon condition improvement.\n",
      "5. Description of the initial effectiveness and the advantages of the earlier treatment.\n",
      "6. Reasons for stopping the earlier treatment.\n",
      "7. Suggestion of a home remedy for temporary relief.\n",
      "8. Proposition of alternative therapies and their potential benefits.\n",
      "9. Patients' reaction to the proposed treatment.\n",
      "10. Discussion of insurance-related issues and possible options.\n",
      "\n",
      "However, only the summaries of Ms. Smith and Mr. Anderson included information about the emotions of the patient during the visit (\"arrived in a calm and happy mood\" and \"visited in a very sad and depressed mood\" respectively), which was not included in Mr. Jones' summary. This may represent a new addition to the template concerning participation and emotional cues of the patient. \n",
      "\n",
      "Therefore, the new updated version of template should include the emotional state of the patient at the time of appointment:\n",
      "\n",
      "1. Name of the patient and their emotional state during appointment time.\n",
      "2. Description of the chronic problem and its origins.\n",
      "3. Frequency and nature of the problem's episodes.\n",
      "4. Patients' previous treatment regimen and its cessation upon condition improvement.\n",
      "5. Description of the initial effectiveness and the advantages of the earlier treatment.\n",
      "6. Reasons for stopping the earlier treatment.\n",
      "7. Suggestion of a home remedy for temporary relief.\n",
      "8. Proposition of alternative therapies and their potential benefits.\n",
      "9. Patients' reaction to the proposed treatment.\n",
      "10. Discussion of insurance-related issues and possible options.\n"
     ]
    }
   ],
   "source": [
    "api_key = os.getenv(\"API_KEY\")\n",
    "client = OpenAI(api_key=api_key)\n",
    "\n",
    "# Folder with all the summaries of the doctor\n",
    "folder_path = 'summaries'\n",
    "\n",
    "# Step 1: Extract Text from Each Document\n",
    "documents_texts = []\n",
    "for filename in os.listdir(folder_path):\n",
    "    if filename.endswith('.docx'):\n",
    "        file_path = os.path.join(folder_path, filename)\n",
    "        print(f\"Reading file: {filename}\")\n",
    "\n",
    "        # Reading .doc file\n",
    "        doc = Document(file_path)\n",
    "        text = \"\\n\".join([paragraph.text for paragraph in doc.paragraphs]).strip()\n",
    "        documents_texts.append(text)\n",
    "\n",
    "# Step 2: Comparative Analysis for Template Updates\n",
    "comparative_prompt = \"Compare these medical summary documents and identify any template updates or structural changes, such as the addition of information about the patient or the appointment that are not consistently present in all documents. If the majority of the documents have such a new inclusion, consider it as a template update. State then the structure of the summaries with the different inclusions: \" + \" /// \".join(documents_texts)\n",
    "# comparative_prompt = \"Compare these medical summary documents and identify any major template updates or structural changes, such as the addition of new sections like mood or other elements that are not consistently present in all documents: \" + \" /// \".join(documents_texts)\n",
    "\n",
    "# Call for comparative analysis\n",
    "comparative_response = client.chat.completions.create(\n",
    "    messages=[\n",
    "        {\"role\": \"user\", \"content\": comparative_prompt}\n",
    "    ],\n",
    "    model=\"gpt-4\"\n",
    ")\n",
    "\n",
    "# Extracting and Printing comparative analysis results\n",
    "if comparative_response.choices and len(comparative_response.choices) > 0:\n",
    "    comparative_analysis = comparative_response.choices[0].message.content  # Corrected access\n",
    "    print(\"Comparative Analysis:\\n\", comparative_analysis)\n",
    "else:\n",
    "    print(\"No comparative analysis result\")"
   ]
  },
  {
   "cell_type": "code",
   "execution_count": 5,
   "metadata": {},
   "outputs": [],
   "source": [
    "# Load the transcript\n",
    "transcript = \"\"\"\n",
    "It's 11:33 AM. Hi, Mr. Jones. \n",
    "How are you?\n",
    "Good, Dr.Pitt., a bit nervous, lately I've been anxious.\n",
    "Nice to see you.\n",
    "Nice to see you again.\n",
    "What brings you back tonight?\n",
    "Yeah, well, ever since I got hurt on the job three years ago, it's something that just keeps coming back.\n",
    "It'll be fine for a while, and then I'll bend down or move in a weird way, and then, boom, it'll just go out again.\n",
    "Unfortunately, that didn't happen.\n",
    "And I do have quite a few patients who get reoccurring episodes of back pain.\n",
    "Have you been keeping up with the therapy that we had you on before?\n",
    "Which pills?\n",
    "Actually, I was talking about the physical therapy that we had you doing.\n",
    "The pills are only meant for short term because they don't actually prevent the back pain from coming back.\n",
    "See, yeah, once my back started feeling better, I was happy about it, back to work.\n",
    "So, and I could use the money.\n",
    "Do you think the physical therapy was helping?\n",
    "Yeah, it was slow going at first.\n",
    "I see.\n",
    "Physical therapy is a bit slower than medications, but the point is to build up the core muscles in your back and your abdomen.\n",
    "Physical therapy is also less invasive than medications.\n",
    "So that's why we had you doing the therapy.\n",
    "But you mentioned that cost was getting to be a real issue for you.\n",
    "Can you tell me more about that?\n",
    "Well, the insurance I had only covered a certain number of sessions, and then they moved my therapy office because they were trying to work out my schedule of work.\n",
    "But that was really far away, and then I had to deal with parking, and it just started to get really expensive.\n",
    "Got it.\n",
    "I understand.\n",
    "So for now I'd like you to try using a heating pad for your back pain.\n",
    "So that should help in the short term.\n",
    "Our goal is to get your back pain under better control without creating additional problems for you like cost.\n",
    "Let's talk about some different options and the pros and cons of each.\n",
    "So the physical therapy is actually really good for your back pain, but there are other things we can be doing to help.\n",
    "Yes, I definitely don't need to lose any more time at work and just lie around the house all day.\n",
    "Okay, well there are some alternative therapies like yoga or tai chi classes or meditation therapies that might be able to help, generic medication.\n",
    "And then there are also resources for people to look up the cheapest cost of their medications.\n",
    "But for now, I'd like to stick with the non-prescription medications.\n",
    "And if we can have you go to yoga or Tai Chi classes, like I mentioned, that could alleviate the need for ordering prescriptions.\n",
    "Yeah, that sounds good.\n",
    "Okay, great, great.\n",
    "Are there any other costs that are a problem for you in your care?\n",
    "Well, my insurance isn't going down, but that seems to be the case for everybody that I talk to, but I should be able to make it work, yeah.\n",
    "Unfortunately, that is an issue for a lot of people, but I would encourage you during open season to look at your different insurance options to see which plan is more cost effective for you.\n",
    "\"\"\" \n",
    "\n"
   ]
  },
  {
   "cell_type": "code",
   "execution_count": 9,
   "metadata": {},
   "outputs": [
    {
     "name": "stdout",
     "output_type": "stream",
     "text": [
      "Generated Summary:\n",
      "Patient: Mr. Jones\n",
      "Emotional state: Expressed nervousness and anxiety during the visit.\n",
      "\n",
      "Chronic Problem: Mr. Jones has ongoing back pain, an issue that started three years ago due to a work-related injury. The discomfort comes and goes, often triggered by certain movements.\n",
      "\n",
      "Frequency and nature of the problem's episodes: The back pain recurs after periods of improvement, particularly after Mr. Jones bends down or moves in an unexpected manner.\n",
      "\n",
      "Previous Treatment: Physical therapy and short-term medication were previously recommended to manage the back pain.\n",
      "\n",
      "Effectiveness of earlier treatment: Mr. Jones felt the physical therapy was slowly but helping. However, he stopped it once his back started feeling better and he could return to work.\n",
      "\n",
      "Reason for stopping treatment: Following the initial coverage, Mr. Jones' insurance only covered a limited number of physical therapy sessions. The venue for the session was also moved, adding to the overall expense due to travelling and parking costs.\n",
      "\n",
      "Home Remedy: Dr. Pitt advised Mr. Jones to use a heating pad to help manage the back pain in the short term.\n",
      "\n",
      "Alternative therapies: Additional options such as yoga, tai chi classes or meditation therapies were proposed. There were also discussions around other resources for finding the least expensive cost of medications, but the main focus remained on non-prescription methods as much as possible.\n",
      "\n",
      "Patient's reaction: Mr. Jones seemed open to trying alternative therapies like yoga or tai chi classes.\n",
      "\n",
      "Insurance Issues: Mr. Jones expressed concerns over his rising insurance costs and the limitations imposed by his current plan. Dr. Pitt suggested exploring other insurance options during the open season for a potentially more cost-effective plan.\n"
     ]
    }
   ],
   "source": [
    "# Step 1: Generate a summary template based on comparative_analysis\n",
    "template_generation_prompt = f\"Create a summary for a medical transcript maintaining the sections described in this template updates: {comparative_analysis}. Avoid any type of speculation. Directly create a summary for the following transcript without any introductory text:  \"\n",
    "template_response = client.chat.completions.create(\n",
    "    messages=[\n",
    "        {\"role\": \"user\", \"content\": template_generation_prompt}\n",
    "    ],\n",
    "    model=\"gpt-4\"\n",
    ")\n",
    "\n",
    "template = template_response.choices[0].message.content if template_response.choices else \"Template generation failed\"\n",
    "\n",
    "\n",
    "# Step 2: Use the generated template to summarize the transcript\n",
    "summary_prompt = f\"Using this template: {template}\\n\\nCreate a summary for the following transcript: {transcript}\"\n",
    "summary_response = client.chat.completions.create(\n",
    "    messages=[\n",
    "        {\"role\": \"user\", \"content\": summary_prompt}\n",
    "    ],\n",
    "    model=\"gpt-4\"\n",
    ")\n",
    "summary = summary_response.choices[0].message.content if summary_response.choices else \"Summary generation failed\"\n",
    "\n",
    "# Print the summary\n",
    "print(f\"Generated Summary:\\n{summary}\")"
   ]
  },
  {
   "cell_type": "code",
   "execution_count": null,
   "metadata": {},
   "outputs": [],
   "source": []
  }
 ],
 "metadata": {
  "kernelspec": {
   "display_name": "Python 3",
   "language": "python",
   "name": "python3"
  },
  "language_info": {
   "codemirror_mode": {
    "name": "ipython",
    "version": 3
   },
   "file_extension": ".py",
   "mimetype": "text/x-python",
   "name": "python",
   "nbconvert_exporter": "python",
   "pygments_lexer": "ipython3",
   "version": "3.11.7"
  }
 },
 "nbformat": 4,
 "nbformat_minor": 2
}
